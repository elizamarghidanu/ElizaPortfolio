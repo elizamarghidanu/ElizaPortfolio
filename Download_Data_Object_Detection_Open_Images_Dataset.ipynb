{
  "nbformat": 4,
  "nbformat_minor": 2,
  "metadata": {
    "colab": {
      "provenance": []
    },
    "kernelspec": {
      "name": "python3",
      "display_name": "Python 3.10.6 64-bit"
    },
    "language_info": {
      "name": "python",
      "version": "3.10.6",
      "mimetype": "text/x-python",
      "codemirror_mode": {
        "name": "ipython",
        "version": 3
      },
      "pygments_lexer": "ipython3",
      "nbconvert_exporter": "python",
      "file_extension": ".py"
    },
    "interpreter": {
      "hash": "b0fa6594d8f4cbf19f97940f81e996739fb7646882a419484c72d19e05852a7e"
    }
  },
  "cells": [
    {
      "cell_type": "code",
      "execution_count": 1,
      "source": [
        "# install requirements\n",
        "\n",
        "!pip install boto3\n",
        "!pip install tqdm\n",
        "!pip install requests\n",
        "!pip install pandas\n",
        "!pip install opencv-python"
      ],
      "outputs": [
        {
          "output_type": "stream",
          "name": "stdout",
          "text": [
            "Collecting boto3\n",
            "  Downloading boto3-1.34.86-py3-none-any.whl (139 kB)\n",
            "\u001b[K     |████████████████████████████████| 139 kB 1.2 MB/s \n",
            "\u001b[?25hCollecting jmespath<2.0.0,>=0.7.1\n",
            "  Downloading jmespath-1.0.1-py3-none-any.whl (20 kB)\n",
            "Collecting s3transfer<0.11.0,>=0.10.0\n",
            "  Downloading s3transfer-0.10.1-py3-none-any.whl (82 kB)\n",
            "\u001b[K     |████████████████████████████████| 82 kB 579 kB/s \n",
            "\u001b[?25hCollecting botocore<1.35.0,>=1.34.86\n",
            "  Downloading botocore-1.34.86-py3-none-any.whl (12.1 MB)\n",
            "\u001b[K     |████████████████████████████████| 12.1 MB 9.6 MB/s \n",
            "\u001b[?25hRequirement already satisfied: python-dateutil<3.0.0,>=2.1 in /opt/homebrew/Caskroom/miniforge/base/lib/python3.9/site-packages (from botocore<1.35.0,>=1.34.86->boto3) (2.8.2)\n",
            "Requirement already satisfied: urllib3<1.27,>=1.25.4 in /opt/homebrew/Caskroom/miniforge/base/lib/python3.9/site-packages (from botocore<1.35.0,>=1.34.86->boto3) (1.26.4)\n",
            "Requirement already satisfied: six>=1.5 in /opt/homebrew/Caskroom/miniforge/base/lib/python3.9/site-packages (from python-dateutil<3.0.0,>=2.1->botocore<1.35.0,>=1.34.86->boto3) (1.16.0)\n",
            "Installing collected packages: jmespath, botocore, s3transfer, boto3\n",
            "Successfully installed boto3-1.34.86 botocore-1.34.86 jmespath-1.0.1 s3transfer-0.10.1\n",
            "Requirement already satisfied: tqdm in /opt/homebrew/Caskroom/miniforge/base/lib/python3.9/site-packages (4.60.0)\n",
            "Requirement already satisfied: requests in /opt/homebrew/Caskroom/miniforge/base/lib/python3.9/site-packages (2.25.1)\n",
            "Requirement already satisfied: idna<3,>=2.5 in /opt/homebrew/Caskroom/miniforge/base/lib/python3.9/site-packages (from requests) (2.10)\n",
            "Requirement already satisfied: chardet<5,>=3.0.2 in /opt/homebrew/Caskroom/miniforge/base/lib/python3.9/site-packages (from requests) (4.0.0)\n",
            "Requirement already satisfied: certifi>=2017.4.17 in /opt/homebrew/Caskroom/miniforge/base/lib/python3.9/site-packages (from requests) (2023.7.22)\n",
            "Requirement already satisfied: urllib3<1.27,>=1.21.1 in /opt/homebrew/Caskroom/miniforge/base/lib/python3.9/site-packages (from requests) (1.26.4)\n",
            "Collecting pandas\n",
            "  Downloading pandas-2.2.2-cp39-cp39-macosx_11_0_arm64.whl (11.3 MB)\n",
            "\u001b[K     |████████████████████████████████| 11.3 MB 35.3 MB/s \n",
            "\u001b[?25hCollecting pytz>=2020.1\n",
            "  Downloading pytz-2024.1-py2.py3-none-any.whl (505 kB)\n",
            "\u001b[K     |████████████████████████████████| 505 kB 3.1 MB/s \n",
            "\u001b[?25hRequirement already satisfied: numpy>=1.22.4 in /opt/homebrew/Caskroom/miniforge/base/lib/python3.9/site-packages (from pandas) (1.26.0)\n",
            "Collecting tzdata>=2022.7\n",
            "  Downloading tzdata-2024.1-py2.py3-none-any.whl (345 kB)\n",
            "\u001b[K     |████████████████████████████████| 345 kB 3.5 MB/s \n",
            "\u001b[?25hRequirement already satisfied: python-dateutil>=2.8.2 in /opt/homebrew/Caskroom/miniforge/base/lib/python3.9/site-packages (from pandas) (2.8.2)\n",
            "Requirement already satisfied: six>=1.5 in /opt/homebrew/Caskroom/miniforge/base/lib/python3.9/site-packages (from python-dateutil>=2.8.2->pandas) (1.16.0)\n",
            "Installing collected packages: tzdata, pytz, pandas\n",
            "Successfully installed pandas-2.2.2 pytz-2024.1 tzdata-2024.1\n",
            "Collecting opencv-python\n",
            "  Downloading opencv_python-4.9.0.80-cp37-abi3-macosx_11_0_arm64.whl (35.4 MB)\n",
            "\u001b[K     |████████████████████████████████| 35.4 MB 790 kB/s \n",
            "\u001b[?25hRequirement already satisfied: numpy>=1.21.0 in /opt/homebrew/Caskroom/miniforge/base/lib/python3.9/site-packages (from opencv-python) (1.26.0)\n",
            "Installing collected packages: opencv-python\n",
            "Successfully installed opencv-python-4.9.0.80\n"
          ]
        }
      ],
      "metadata": {
        "id": "-BR2GUuJh1Vw"
      }
    },
    {
      "cell_type": "code",
      "execution_count": 2,
      "source": [
        "import ast\n",
        "import os\n",
        "import shutil\n",
        "import argparse\n",
        "import sys\n",
        "\n",
        "import requests\n",
        "\n",
        "import pandas as pd\n",
        "\n",
        "\n",
        "def process(classes, data_out_dir, yolov8_format, max_number_images_per_class):\n",
        "\n",
        "    if max_number_images_per_class is None:\n",
        "        max_number_images_per_class = sys.maxsize\n",
        "\n",
        "    train_data_url = 'https://storage.googleapis.com/openimages/v6/oidv6-train-annotations-bbox.csv'\n",
        "    val_data_url = 'https://storage.googleapis.com/openimages/v5/validation-annotations-bbox.csv'\n",
        "    test_data_url = 'https://storage.googleapis.com/openimages/v5/test-annotations-bbox.csv'\n",
        "\n",
        "    downloader_url = 'https://raw.githubusercontent.com/openimages/dataset/master/downloader.py'\n",
        "\n",
        "    class_names_all_url = 'https://storage.googleapis.com/openimages/v7/oidv7-class-descriptions.csv'\n",
        "\n",
        "    for url in [train_data_url, val_data_url, test_data_url, class_names_all_url, downloader_url]:\n",
        "        if not os.path.exists(url.split('/')[-1]):\n",
        "            print('downloading {}...'.format(url.split('/')[-1]))\n",
        "            r = requests.get(url)\n",
        "            with open(url.split('/')[-1], 'wb') as f:\n",
        "                f.write(r.content)\n",
        "\n",
        "    class_ids = []\n",
        "\n",
        "    classes_all = pd.read_csv(class_names_all_url.split('/')[-1])\n",
        "\n",
        "    for class_ in classes:\n",
        "        if class_ not in list(classes_all['DisplayName']) or class_ not in list(classes_all['DisplayName']):\n",
        "            raise Exception('Class name not found: {}'.format(class_))\n",
        "        class_index = list(classes_all['DisplayName']).index(class_)\n",
        "        class_ids.append(classes_all['LabelName'].iloc[class_index])\n",
        "\n",
        "    image_list_file_path = os.path.join('.', 'image_list_file')\n",
        "    if os.path.exists(image_list_file_path):\n",
        "        os.remove(image_list_file_path)\n",
        "\n",
        "\n",
        "    image_list_file_list = []\n",
        "    for j, url in enumerate([train_data_url, val_data_url, test_data_url]):\n",
        "        image_list_file_per_class = [[] for j in class_ids]\n",
        "        filename = url.split('/')[-1]\n",
        "        with (open(filename, 'r') as f):\n",
        "            line = f.readline()\n",
        "            while len(line) != 0:\n",
        "                id, _, class_name, _, x1, x2, y1, y2, _, _, _, _, _ = line.split(',')[:13]\n",
        "                if class_name in class_ids and id not in image_list_file_list \\\n",
        "                    and len(image_list_file_per_class[class_ids.index(class_name)]) < max_number_images_per_class:\n",
        "                    image_list_file_list.append(id)\n",
        "                    image_list_file_per_class[class_ids.index(class_name)].append(id)\n",
        "                    with open(image_list_file_path, 'a') as fw:\n",
        "                        fw.write('{}/{}\\n'.format(['train', 'validation', 'test'][j], id))\n",
        "                line = f.readline()\n",
        "\n",
        "            f.close()\n",
        "\n",
        "    out_dir = './.out'\n",
        "    shutil.rmtree(out_dir, ignore_errors=True)\n",
        "    os.system('python downloader.py {} --download_folder={}'.format(image_list_file_path, out_dir))\n",
        "\n",
        "    DATA_ALL_DIR = out_dir\n",
        "\n",
        "    for set_ in ['train', 'val', 'test']:\n",
        "        for dir_ in [os.path.join(data_out_dir, set_),\n",
        "                     os.path.join(data_out_dir, set_, 'imgs'),\n",
        "                     os.path.join(data_out_dir, set_, 'anns')]:\n",
        "            if os.path.exists(dir_):\n",
        "                shutil.rmtree(dir_)\n",
        "            os.makedirs(dir_)\n",
        "\n",
        "    for j, url in enumerate([train_data_url, val_data_url, test_data_url]):\n",
        "        filename = url.split('/')[-1]\n",
        "        set_ = ['train', 'val', 'test'][j]\n",
        "        print(filename)\n",
        "        with open(filename, 'r') as f:\n",
        "            line = f.readline()\n",
        "            while len(line) != 0:\n",
        "                id, _, class_name, _, x1, x2, y1, y2, _, _, _, _, _ = line.split(',')[:13]\n",
        "                if class_name in class_ids:\n",
        "                    if os.path.exists(os.path.join(DATA_ALL_DIR, '{}.jpg'.format(id))):\n",
        "                        if not os.path.exists(os.path.join(data_out_dir, set_, 'imgs', '{}.jpg'.format(id))):\n",
        "                            shutil.copy(os.path.join(DATA_ALL_DIR, '{}.jpg'.format(id)),\n",
        "                                        os.path.join(data_out_dir, set_, 'imgs', '{}.jpg'.format(id)))\n",
        "                        with open(os.path.join(data_out_dir, set_, 'anns', '{}.txt'.format(id)), 'a') as f_ann:\n",
        "                            # class_id, xc, yx, w, h\n",
        "                            x1, x2, y1, y2 = [float(j) for j in [x1, x2, y1, y2]]\n",
        "                            xc = (x1 + x2) / 2\n",
        "                            yc = (y1 + y2) / 2\n",
        "                            w = x2 - x1\n",
        "                            h = y2 - y1\n",
        "\n",
        "                            f_ann.write('{} {} {} {} {}\\n'.format(int(class_ids.index(class_name)), xc, yc, w, h))\n",
        "                            f_ann.close()\n",
        "\n",
        "                line = f.readline()\n",
        "\n",
        "    shutil.rmtree(out_dir, ignore_errors=True)\n",
        "\n",
        "    if yolov8_format:\n",
        "        for set_ in ['train', 'val', 'test']:\n",
        "            for dir_ in [os.path.join(data_out_dir, 'images', set_),\n",
        "                         os.path.join(data_out_dir, 'labels', set_)]:\n",
        "                if os.path.exists(dir_):\n",
        "                    shutil.rmtree(dir_)\n",
        "                os.makedirs(dir_)\n",
        "\n",
        "            for filename in os.listdir(os.path.join(data_out_dir, set_, 'imgs')):\n",
        "                shutil.copy(os.path.join(data_out_dir, set_, 'imgs', filename), os.path.join(data_out_dir, 'images', set_, filename))\n",
        "            for filename in os.listdir(os.path.join(data_out_dir, set_, 'anns')):\n",
        "                shutil.copy(os.path.join(data_out_dir, set_, 'anns', filename), os.path.join(data_out_dir, 'labels', set_, filename))\n",
        "\n",
        "            shutil.rmtree(os.path.join(data_out_dir, set_))\n"
      ],
      "outputs": [],
      "metadata": {
        "id": "hMExsxheZmeR"
      }
    },
    {
      "cell_type": "code",
      "execution_count": 3,
      "source": [
        "classes = ['Person']  # list containing all the classes you will download from the open images dataset v7\n",
        "\n",
        "out_dir = './data'\n",
        "\n",
        "max_number_images_per_class = 200\n",
        "\n",
        "yolov8_format = True\n",
        "\n",
        "process(classes, out_dir, yolov8_format, max_number_images_per_class)"
      ],
      "outputs": [
        {
          "output_type": "stream",
          "name": "stdout",
          "text": [
            "downloading oidv6-train-annotations-bbox.csv...\n",
            "downloading validation-annotations-bbox.csv...\n",
            "downloading test-annotations-bbox.csv...\n",
            "downloading oidv7-class-descriptions.csv...\n",
            "downloading downloader.py...\n",
            "oidv6-train-annotations-bbox.csv\n",
            "validation-annotations-bbox.csv\n",
            "test-annotations-bbox.csv\n"
          ]
        }
      ],
      "metadata": {
        "id": "RVWBpFLxeQsw",
        "colab": {
          "base_uri": "https://localhost:8080/"
        },
        "outputId": "418e9c5c-74c4-4640-873d-2b176e83abfb"
      }
    },
    {
      "cell_type": "code",
      "execution_count": null,
      "source": [
        "# zip the data directory\n",
        "\n",
        "!zip -r data.zip /content/data"
      ],
      "outputs": [],
      "metadata": {
        "id": "z5cAay6Sd7p8"
      }
    },
    {
      "cell_type": "code",
      "execution_count": null,
      "source": [
        "# mount Google Drive\n",
        "\n",
        "from google.colab import drive\n",
        "\n",
        "drive.mount('/content/gdrive')"
      ],
      "outputs": [],
      "metadata": {
        "id": "dBXbyXXCeFkQ"
      }
    },
    {
      "cell_type": "code",
      "execution_count": 6,
      "source": [
        "# copy data to your Google Drive\n",
        "\n",
        "!scp '/content/data.zip' '/content/gdrive/My Drive/data.zip'"
      ],
      "outputs": [],
      "metadata": {
        "id": "PQWt6zgveKE7"
      }
    }
  ]
}